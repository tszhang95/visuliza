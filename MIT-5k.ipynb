{
 "cells": [
  {
   "cell_type": "code",
   "execution_count": 30,
   "id": "8e9dd403",
   "metadata": {},
   "outputs": [],
   "source": [
    "import os\n",
    "from PIL import Image\n",
    "import numpy as np\n",
    "import matplotlib.pyplot as plt\n",
    "root_path = '/workspace/AdBRC/tszhang/github/LLE/data/adobe5k'\n",
    "final_path = root_path + '/Train'+'/high/'\n",
    "lists = os.listdir(final_path)\n",
    "box = (0, 0, 500, 332)\n",
    "\n",
    "out_root = '/workspace/AdBRC/tszhang/github/LLE/data/adobe5k_my/Train/high/'\n",
    "for i in lists:\n",
    "    img = Image.open(final_path+i)\n",
    "    if (np.array(img)).shape[1]!=500:\n",
    "        img = img.transpose(Image.ROTATE_90)\n",
    "    img = img.crop(box)\n",
    "    img.save(out_root + i)\n",
    "#     count.append((np.array(img)).shape)\n",
    "    \n",
    "\n",
    "# print((np.array(img)).shape)\n",
    "# img = img.transpose(Image.ROTATE_90)\n",
    "# img = img.crop(box)\n",
    "# print((np.array(img)).shape)\n",
    "# plt.imshow(img)\n",
    "# img.save('test.png')"
   ]
  },
  {
   "cell_type": "code",
   "execution_count": 26,
   "id": "297d8d8d",
   "metadata": {},
   "outputs": [
    {
     "data": {
      "text/plain": [
       "500"
      ]
     },
     "execution_count": 26,
     "metadata": {},
     "output_type": "execute_result"
    }
   ],
   "source": [
    "(np.array(img)).shape[1]"
   ]
  },
  {
   "cell_type": "code",
   "execution_count": 32,
   "id": "3d29d0bf",
   "metadata": {},
   "outputs": [],
   "source": [
    "# for i in os.listdir(root_path + '/Train' + '/low/'):\n",
    "#     if not os.path.exists(root_path + '/Train' + '/high/' + i):\n",
    "#         print(i)"
   ]
  },
  {
   "cell_type": "code",
   "execution_count": null,
   "id": "0c0c2701",
   "metadata": {},
   "outputs": [],
   "source": []
  }
 ],
 "metadata": {
  "kernelspec": {
   "display_name": "Python 3 (ipykernel)",
   "language": "python",
   "name": "python3"
  },
  "language_info": {
   "codemirror_mode": {
    "name": "ipython",
    "version": 3
   },
   "file_extension": ".py",
   "mimetype": "text/x-python",
   "name": "python",
   "nbconvert_exporter": "python",
   "pygments_lexer": "ipython3",
   "version": "3.9.0"
  }
 },
 "nbformat": 4,
 "nbformat_minor": 5
}
